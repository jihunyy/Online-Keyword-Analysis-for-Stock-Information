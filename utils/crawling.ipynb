{
 "cells": [
  {
   "cell_type": "markdown",
   "id": "8b1c8736",
   "metadata": {},
   "source": [
    "### 기본 세팅"
   ]
  },
  {
   "cell_type": "code",
   "execution_count": 1,
   "id": "ef54af35",
   "metadata": {},
   "outputs": [],
   "source": [
    "import time\n",
    "from datetime import date, timedelta\n",
    "import pandas as pd\n",
    "\n",
    "from crawling_daumnews import get_daumnews_info\n",
    "from crawling_dcinside import get_dcinside_info\n",
    "from crawling_jongto import get_jongto_info\n",
    "from crawling_navernews import get_navernews_info\n",
    "from crawling_youtube import get_youtube_info"
   ]
  },
  {
   "cell_type": "code",
   "execution_count": 2,
   "id": "71373690",
   "metadata": {},
   "outputs": [],
   "source": [
    "# 어제 날짜 저장\n",
    "def get_yesterday():\n",
    "    today     = date.today()             # 오늘 날짜\n",
    "    yesterday = today - timedelta(1)     # 어제 날짜\n",
    "\n",
    "    year = str(yesterday.year)\n",
    "    mon = str(yesterday.month)\n",
    "    if int(mon) < 10:\n",
    "        mon = '0' + str(mon)\n",
    "    day = str(yesterday.day)\n",
    "    if int(day) < 10:\n",
    "        day = '0' + str(day)\n",
    "        \n",
    "    return year+mon+day\n",
    "\n",
    "yesterday = get_yesterday()\n",
    "#print(' 크롤링 진행 날짜: {}'.format(yesterday))"
   ]
  },
  {
   "cell_type": "markdown",
   "id": "aecc5ffd",
   "metadata": {},
   "source": [
    "### 종목 선정"
   ]
  },
  {
   "cell_type": "code",
   "execution_count": 3,
   "id": "83bef8a7",
   "metadata": {},
   "outputs": [],
   "source": [
    "# 종목 vcoab은 종목명 유의어까지 포함\n",
    "vocab = [\n",
    "    ['삼성전자', '삼전'],\n",
    "    ['SK하이닉스', '하닉'],\n",
    "    ['카카오뱅크', '카뱅'],\n",
    "    ['두산중공업', '두중'],\n",
    "    ['HMM', '흠'],\n",
    "    ['SK바이오사이언스', 'sk바이오', 'sk바사'],\n",
    "    ['한국전력공사', '한국전력', '한전'],\n",
    "    ['카카오'],\n",
    "    ['대한항공', '댄공']\n",
    "]"
   ]
  },
  {
   "cell_type": "markdown",
   "id": "460b4c08",
   "metadata": {},
   "source": [
    "### 전체 크롤링"
   ]
  },
  {
   "cell_type": "code",
   "execution_count": 4,
   "id": "1dd5987d",
   "metadata": {},
   "outputs": [],
   "source": [
    "# 다음뉴스 크롤링\n",
    "start_time = time.time()\n",
    "\n",
    "for i in range(len(vocab)):\n",
    "    for j in range(len(vocab[i])):\n",
    "        # 종목 선택\n",
    "        keyword = vocab[i][j]\n",
    "        \n",
    "        # 크롤링\n",
    "        globals()[f'daumnews_{keyword}_info'], globals()[f'daumnews_{keyword}_comment'] = get_daumnews_info(keyword)\n",
    "        \n",
    "        # 파일 저장\n",
    "        globals()[f'daumnews_{keyword}_info'].to_csv(f'{yesterday}_daumnews_{keyword}_info.csv')\n",
    "        globals()[f'daumnews_{keyword}_comment'].to_csv(f'{yesterday}_daumnews_{keyword}_comment.csv')\n",
    "        \n",
    "#print(' daumnews crawling time: {}'.format(time.time()-start_time))"
   ]
  },
  {
   "cell_type": "code",
   "execution_count": 5,
   "id": "765a23c0",
   "metadata": {},
   "outputs": [],
   "source": [
    "# 디시인사이드 크롤링\n",
    "start_time = time.time()\n",
    "\n",
    "for i in range(len(vocab)):\n",
    "    for j in range(len(vocab[i])):\n",
    "        # 종목 선택\n",
    "        keyword = vocab[i][j]\n",
    "        \n",
    "        # 크롤링\n",
    "        globals()[f'dcinside_{keyword}_info'], globals()[f'dcinside_{keyword}_comment'] = get_dcinside_info(keyword)\n",
    "        \n",
    "        # 파일 저장\n",
    "        globals()[f'dcinside_{keyword}_info'].to_csv(f'{yesterday}_dcinside_{keyword}_info.csv')\n",
    "        globals()[f'dcinside_{keyword}_comment'].to_csv(f'{yesterday}_dcinside_{keyword}_comment.csv')\n",
    "        \n",
    "#print(' dcinside crawling time: {}'.format(time.time()-start_time))"
   ]
  },
  {
   "cell_type": "code",
   "execution_count": 6,
   "id": "603419d7",
   "metadata": {},
   "outputs": [],
   "source": [
    "# 종토방 크롤링\n",
    "start_time = time.time()\n",
    "\n",
    "for i in range(len(vocab)):\n",
    "    for j in range(len(vocab[i])):\n",
    "        # 종목 선택\n",
    "        keyword0 = vocab[i][0]\n",
    "        keyword1 = vocab[i][j]\n",
    "        keyword = [keyword0, keyword1]\n",
    "        \n",
    "        # 크롤링\n",
    "        globals()[f'jongto_{keyword0}_{keyword1}_info'], globals()[f'jongto_{keyword0}_{keyword1}_comment'] = get_jongto_info(keyword)\n",
    "\n",
    "        # 파일 저장\n",
    "        globals()[f'jongto_{keyword0}_{keyword1}_info'].to_csv(f'{yesterday}_jongto_{keyword0}_{keyword1}_info.csv')\n",
    "        globals()[f'jongto_{keyword0}_{keyword1}_comment'].to_csv(f'{yesterday}_jongto_{keyword0}_{keyword1}_comment.csv')\n",
    "        \n",
    "#print(' jongto crawling time: {}'.format(time.time()-start_time))"
   ]
  },
  {
   "cell_type": "code",
   "execution_count": 7,
   "id": "bc33c824",
   "metadata": {},
   "outputs": [],
   "source": [
    "# 네이버뉴스 크롤링\n",
    "start_time = time.time()\n",
    "\n",
    "for i in range(len(vocab)):\n",
    "    for j in range(len(vocab[i])):\n",
    "        # 종목 선택\n",
    "        keyword = vocab[i][j]\n",
    "        \n",
    "        # 크롤링\n",
    "        globals()[f'navernews_{keyword}_info'], globals()[f'navernews_{keyword}_comment'] = get_navernews_info(keyword)\n",
    "        \n",
    "        # 파일 저장\n",
    "        globals()[f'navernews_{keyword}_info'].to_csv(f'{yesterday}_navernews_{keyword}_info.csv')\n",
    "        globals()[f'navernews_{keyword}_comment'].to_csv(f'{yesterday}_navernews_{keyword}_comment.csv')\n",
    "        \n",
    "#print(' navernews crawling time: {}'.format(time.time()-start_time))"
   ]
  },
  {
   "cell_type": "code",
   "execution_count": 8,
   "id": "a8622758",
   "metadata": {},
   "outputs": [],
   "source": [
    "# 유튜브 크롤링\n",
    "start_time = time.time()\n",
    "\n",
    "for i in range(len(vocab)):\n",
    "    # 종목 선택\n",
    "    keyword = vocab[i][0]\n",
    "    if keyword == '한국전력공사':\n",
    "        keyword = '한국전력'\n",
    "        \n",
    "    # 크롤링\n",
    "    globals()[f'youtube_{keyword}_info'], globals()[f'youtube_{keyword}_comment'] = get_youtube_info(keyword)\n",
    "    \n",
    "    # 파일 저장\n",
    "    globals()[f'youtube_{keyword}_info'].to_csv(f'{yesterday}_youtube_{keyword}_info.csv')\n",
    "    globals()[f'youtube_{keyword}_comment'].to_csv(f'{yesterday}_youtube_{keyword}_comment.csv')\n",
    "        \n",
    "#print(' youtube crawling time: {}'.format(time.time()-start_time))"
   ]
  }
 ],
 "metadata": {
  "kernelspec": {
   "display_name": "Python 3",
   "language": "python",
   "name": "python3"
  },
  "language_info": {
   "codemirror_mode": {
    "name": "ipython",
    "version": 3
   },
   "file_extension": ".py",
   "mimetype": "text/x-python",
   "name": "python",
   "nbconvert_exporter": "python",
   "pygments_lexer": "ipython3",
   "version": "3.8.8"
  }
 },
 "nbformat": 4,
 "nbformat_minor": 5
}
